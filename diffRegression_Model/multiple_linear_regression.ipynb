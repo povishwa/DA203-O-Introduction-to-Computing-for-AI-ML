{
  "nbformat": 4,
  "nbformat_minor": 0,
  "metadata": {
    "colab": {
      "provenance": []
    },
    "kernelspec": {
      "name": "python3",
      "display_name": "Python 3"
    },
    "language_info": {
      "name": "python"
    }
  },
  "cells": [
    {
      "cell_type": "markdown",
      "source": [
        "# **Multiple Linear Regression**"
      ],
      "metadata": {
        "id": "rM6jeA-s6m7z"
      }
    },
    {
      "cell_type": "markdown",
      "source": [
        "## Importing the libraries"
      ],
      "metadata": {
        "id": "7OeXmVEe6tfb"
      }
    },
    {
      "cell_type": "code",
      "source": [
        "import numpy as np\n",
        "import matplotlib.pyplot as plt\n",
        "import pandas as pd\n",
        "\n",
        "from sklearn.compose import ColumnTransformer\n",
        "from sklearn.preprocessing import OneHotEncoder\n",
        "from sklearn.preprocessing import StandardScaler\n",
        "from sklearn.model_selection import train_test_split\n",
        "from sklearn.metrics import mean_squared_error, r2_score"
      ],
      "metadata": {
        "id": "zZxrC5do6aFQ"
      },
      "execution_count": null,
      "outputs": []
    },
    {
      "cell_type": "markdown",
      "source": [
        "## Importing the dataset"
      ],
      "metadata": {
        "id": "aoDjWvB762hz"
      }
    },
    {
      "cell_type": "code",
      "source": [
        "dataset = pd.read_csv('loan_samp1.csv')\n",
        "X = dataset.iloc[:, 1:-2].values \n",
        "y = dataset.iloc[:, -2].values"
      ],
      "metadata": {
        "id": "GZrWNeeIvscD"
      },
      "execution_count": null,
      "outputs": []
    },
    {
      "cell_type": "code",
      "source": [
        "dataset"
      ],
      "metadata": {
        "colab": {
          "base_uri": "https://localhost:8080/",
          "height": 551
        },
        "id": "n-mF2p0Bvyb7",
        "outputId": "47ab3e5a-8ffb-4eb0-87cf-a31ab32264b7"
      },
      "execution_count": null,
      "outputs": [
        {
          "output_type": "execute_result",
          "data": {
            "text/plain": [
              "     Loan_ID Gender  Age Married  No_Of_Dependents Edu_Qualification  \\\n",
              "0      55769      M   59      No                 1          Graduate   \n",
              "1      13302      M   57      No                 1          Graduate   \n",
              "2      23921      F   37     Yes                 2      Not Graduate   \n",
              "3      86901      M   32      No                 3      Not Graduate   \n",
              "4      94393      F   61     Yes                 2      Not Graduate   \n",
              "..       ...    ...  ...     ...               ...               ...   \n",
              "995    41138      F   48      No                 3          Graduate   \n",
              "996    92291      F   59     Yes                 3      Not Graduate   \n",
              "997    73340      F   18     Yes                 3      Not Graduate   \n",
              "998    65542      M   24      No                 3      Not Graduate   \n",
              "999    72052      F   34      No                 0      Not Graduate   \n",
              "\n",
              "    Employment_Status  Applicant_Annual_Income  Co_Applicant_Annual_Income  \\\n",
              "0         Priv Sector                  2314491                      219621   \n",
              "1       Agriculturist                  1074953                           0   \n",
              "2        Not-Employed                  2232122                     1095821   \n",
              "3       Agriculturist                  1598704                           0   \n",
              "4       Agriculturist                  1719946                           0   \n",
              "..                ...                      ...                         ...   \n",
              "995      Not-Employed                  1980231                      790447   \n",
              "996     Agriculturist                  2071673                           0   \n",
              "997      Not-Employed                  1498143                     1255224   \n",
              "998     Self-Employed                   811224                      863150   \n",
              "999      Not-Employed                  1751083                      967910   \n",
              "\n",
              "     Applicant_Credit_History Credit_Rating  Existing_No_of_Loans  \\\n",
              "0                         571       Average                     1   \n",
              "1                         770     Excellent                     1   \n",
              "2                         560       Average                     1   \n",
              "3                         774     Excellent                     0   \n",
              "4                         759     Excellent                     0   \n",
              "..                        ...           ...                   ...   \n",
              "995                       656          Good                     0   \n",
              "996                       762     Excellent                     0   \n",
              "997                       540          Poor                     1   \n",
              "998                       551       Average                     1   \n",
              "999                       558       Average                     0   \n",
              "\n",
              "     Loan_Amount_Availed         Car Purchased  \n",
              "0               23144.92           Hyundai i10  \n",
              "1              107495.38           Hyundai i10  \n",
              "2              223212.23           Tata Indigo  \n",
              "3              559546.46      Mahinddra Bolero  \n",
              "4              429986.55           Hyundai i10  \n",
              "..                   ...                   ...  \n",
              "995            297034.74  Maruti Suzuki Desire  \n",
              "996            517918.44           Tata Indigo  \n",
              "997                 0.00            No Vehicle  \n",
              "998            121683.66           Tata Indigo  \n",
              "999            262662.54           Hyundai i10  \n",
              "\n",
              "[1000 rows x 14 columns]"
            ],
            "text/html": [
              "\n",
              "  <div id=\"df-b8d26683-e452-430f-b9ef-ee2b4f4d47af\">\n",
              "    <div class=\"colab-df-container\">\n",
              "      <div>\n",
              "<style scoped>\n",
              "    .dataframe tbody tr th:only-of-type {\n",
              "        vertical-align: middle;\n",
              "    }\n",
              "\n",
              "    .dataframe tbody tr th {\n",
              "        vertical-align: top;\n",
              "    }\n",
              "\n",
              "    .dataframe thead th {\n",
              "        text-align: right;\n",
              "    }\n",
              "</style>\n",
              "<table border=\"1\" class=\"dataframe\">\n",
              "  <thead>\n",
              "    <tr style=\"text-align: right;\">\n",
              "      <th></th>\n",
              "      <th>Loan_ID</th>\n",
              "      <th>Gender</th>\n",
              "      <th>Age</th>\n",
              "      <th>Married</th>\n",
              "      <th>No_Of_Dependents</th>\n",
              "      <th>Edu_Qualification</th>\n",
              "      <th>Employment_Status</th>\n",
              "      <th>Applicant_Annual_Income</th>\n",
              "      <th>Co_Applicant_Annual_Income</th>\n",
              "      <th>Applicant_Credit_History</th>\n",
              "      <th>Credit_Rating</th>\n",
              "      <th>Existing_No_of_Loans</th>\n",
              "      <th>Loan_Amount_Availed</th>\n",
              "      <th>Car Purchased</th>\n",
              "    </tr>\n",
              "  </thead>\n",
              "  <tbody>\n",
              "    <tr>\n",
              "      <th>0</th>\n",
              "      <td>55769</td>\n",
              "      <td>M</td>\n",
              "      <td>59</td>\n",
              "      <td>No</td>\n",
              "      <td>1</td>\n",
              "      <td>Graduate</td>\n",
              "      <td>Priv Sector</td>\n",
              "      <td>2314491</td>\n",
              "      <td>219621</td>\n",
              "      <td>571</td>\n",
              "      <td>Average</td>\n",
              "      <td>1</td>\n",
              "      <td>23144.92</td>\n",
              "      <td>Hyundai i10</td>\n",
              "    </tr>\n",
              "    <tr>\n",
              "      <th>1</th>\n",
              "      <td>13302</td>\n",
              "      <td>M</td>\n",
              "      <td>57</td>\n",
              "      <td>No</td>\n",
              "      <td>1</td>\n",
              "      <td>Graduate</td>\n",
              "      <td>Agriculturist</td>\n",
              "      <td>1074953</td>\n",
              "      <td>0</td>\n",
              "      <td>770</td>\n",
              "      <td>Excellent</td>\n",
              "      <td>1</td>\n",
              "      <td>107495.38</td>\n",
              "      <td>Hyundai i10</td>\n",
              "    </tr>\n",
              "    <tr>\n",
              "      <th>2</th>\n",
              "      <td>23921</td>\n",
              "      <td>F</td>\n",
              "      <td>37</td>\n",
              "      <td>Yes</td>\n",
              "      <td>2</td>\n",
              "      <td>Not Graduate</td>\n",
              "      <td>Not-Employed</td>\n",
              "      <td>2232122</td>\n",
              "      <td>1095821</td>\n",
              "      <td>560</td>\n",
              "      <td>Average</td>\n",
              "      <td>1</td>\n",
              "      <td>223212.23</td>\n",
              "      <td>Tata Indigo</td>\n",
              "    </tr>\n",
              "    <tr>\n",
              "      <th>3</th>\n",
              "      <td>86901</td>\n",
              "      <td>M</td>\n",
              "      <td>32</td>\n",
              "      <td>No</td>\n",
              "      <td>3</td>\n",
              "      <td>Not Graduate</td>\n",
              "      <td>Agriculturist</td>\n",
              "      <td>1598704</td>\n",
              "      <td>0</td>\n",
              "      <td>774</td>\n",
              "      <td>Excellent</td>\n",
              "      <td>0</td>\n",
              "      <td>559546.46</td>\n",
              "      <td>Mahinddra Bolero</td>\n",
              "    </tr>\n",
              "    <tr>\n",
              "      <th>4</th>\n",
              "      <td>94393</td>\n",
              "      <td>F</td>\n",
              "      <td>61</td>\n",
              "      <td>Yes</td>\n",
              "      <td>2</td>\n",
              "      <td>Not Graduate</td>\n",
              "      <td>Agriculturist</td>\n",
              "      <td>1719946</td>\n",
              "      <td>0</td>\n",
              "      <td>759</td>\n",
              "      <td>Excellent</td>\n",
              "      <td>0</td>\n",
              "      <td>429986.55</td>\n",
              "      <td>Hyundai i10</td>\n",
              "    </tr>\n",
              "    <tr>\n",
              "      <th>...</th>\n",
              "      <td>...</td>\n",
              "      <td>...</td>\n",
              "      <td>...</td>\n",
              "      <td>...</td>\n",
              "      <td>...</td>\n",
              "      <td>...</td>\n",
              "      <td>...</td>\n",
              "      <td>...</td>\n",
              "      <td>...</td>\n",
              "      <td>...</td>\n",
              "      <td>...</td>\n",
              "      <td>...</td>\n",
              "      <td>...</td>\n",
              "      <td>...</td>\n",
              "    </tr>\n",
              "    <tr>\n",
              "      <th>995</th>\n",
              "      <td>41138</td>\n",
              "      <td>F</td>\n",
              "      <td>48</td>\n",
              "      <td>No</td>\n",
              "      <td>3</td>\n",
              "      <td>Graduate</td>\n",
              "      <td>Not-Employed</td>\n",
              "      <td>1980231</td>\n",
              "      <td>790447</td>\n",
              "      <td>656</td>\n",
              "      <td>Good</td>\n",
              "      <td>0</td>\n",
              "      <td>297034.74</td>\n",
              "      <td>Maruti Suzuki Desire</td>\n",
              "    </tr>\n",
              "    <tr>\n",
              "      <th>996</th>\n",
              "      <td>92291</td>\n",
              "      <td>F</td>\n",
              "      <td>59</td>\n",
              "      <td>Yes</td>\n",
              "      <td>3</td>\n",
              "      <td>Not Graduate</td>\n",
              "      <td>Agriculturist</td>\n",
              "      <td>2071673</td>\n",
              "      <td>0</td>\n",
              "      <td>762</td>\n",
              "      <td>Excellent</td>\n",
              "      <td>0</td>\n",
              "      <td>517918.44</td>\n",
              "      <td>Tata Indigo</td>\n",
              "    </tr>\n",
              "    <tr>\n",
              "      <th>997</th>\n",
              "      <td>73340</td>\n",
              "      <td>F</td>\n",
              "      <td>18</td>\n",
              "      <td>Yes</td>\n",
              "      <td>3</td>\n",
              "      <td>Not Graduate</td>\n",
              "      <td>Not-Employed</td>\n",
              "      <td>1498143</td>\n",
              "      <td>1255224</td>\n",
              "      <td>540</td>\n",
              "      <td>Poor</td>\n",
              "      <td>1</td>\n",
              "      <td>0.00</td>\n",
              "      <td>No Vehicle</td>\n",
              "    </tr>\n",
              "    <tr>\n",
              "      <th>998</th>\n",
              "      <td>65542</td>\n",
              "      <td>M</td>\n",
              "      <td>24</td>\n",
              "      <td>No</td>\n",
              "      <td>3</td>\n",
              "      <td>Not Graduate</td>\n",
              "      <td>Self-Employed</td>\n",
              "      <td>811224</td>\n",
              "      <td>863150</td>\n",
              "      <td>551</td>\n",
              "      <td>Average</td>\n",
              "      <td>1</td>\n",
              "      <td>121683.66</td>\n",
              "      <td>Tata Indigo</td>\n",
              "    </tr>\n",
              "    <tr>\n",
              "      <th>999</th>\n",
              "      <td>72052</td>\n",
              "      <td>F</td>\n",
              "      <td>34</td>\n",
              "      <td>No</td>\n",
              "      <td>0</td>\n",
              "      <td>Not Graduate</td>\n",
              "      <td>Not-Employed</td>\n",
              "      <td>1751083</td>\n",
              "      <td>967910</td>\n",
              "      <td>558</td>\n",
              "      <td>Average</td>\n",
              "      <td>0</td>\n",
              "      <td>262662.54</td>\n",
              "      <td>Hyundai i10</td>\n",
              "    </tr>\n",
              "  </tbody>\n",
              "</table>\n",
              "<p>1000 rows × 14 columns</p>\n",
              "</div>\n",
              "      <button class=\"colab-df-convert\" onclick=\"convertToInteractive('df-b8d26683-e452-430f-b9ef-ee2b4f4d47af')\"\n",
              "              title=\"Convert this dataframe to an interactive table.\"\n",
              "              style=\"display:none;\">\n",
              "        \n",
              "  <svg xmlns=\"http://www.w3.org/2000/svg\" height=\"24px\"viewBox=\"0 0 24 24\"\n",
              "       width=\"24px\">\n",
              "    <path d=\"M0 0h24v24H0V0z\" fill=\"none\"/>\n",
              "    <path d=\"M18.56 5.44l.94 2.06.94-2.06 2.06-.94-2.06-.94-.94-2.06-.94 2.06-2.06.94zm-11 1L8.5 8.5l.94-2.06 2.06-.94-2.06-.94L8.5 2.5l-.94 2.06-2.06.94zm10 10l.94 2.06.94-2.06 2.06-.94-2.06-.94-.94-2.06-.94 2.06-2.06.94z\"/><path d=\"M17.41 7.96l-1.37-1.37c-.4-.4-.92-.59-1.43-.59-.52 0-1.04.2-1.43.59L10.3 9.45l-7.72 7.72c-.78.78-.78 2.05 0 2.83L4 21.41c.39.39.9.59 1.41.59.51 0 1.02-.2 1.41-.59l7.78-7.78 2.81-2.81c.8-.78.8-2.07 0-2.86zM5.41 20L4 18.59l7.72-7.72 1.47 1.35L5.41 20z\"/>\n",
              "  </svg>\n",
              "      </button>\n",
              "      \n",
              "  <style>\n",
              "    .colab-df-container {\n",
              "      display:flex;\n",
              "      flex-wrap:wrap;\n",
              "      gap: 12px;\n",
              "    }\n",
              "\n",
              "    .colab-df-convert {\n",
              "      background-color: #E8F0FE;\n",
              "      border: none;\n",
              "      border-radius: 50%;\n",
              "      cursor: pointer;\n",
              "      display: none;\n",
              "      fill: #1967D2;\n",
              "      height: 32px;\n",
              "      padding: 0 0 0 0;\n",
              "      width: 32px;\n",
              "    }\n",
              "\n",
              "    .colab-df-convert:hover {\n",
              "      background-color: #E2EBFA;\n",
              "      box-shadow: 0px 1px 2px rgba(60, 64, 67, 0.3), 0px 1px 3px 1px rgba(60, 64, 67, 0.15);\n",
              "      fill: #174EA6;\n",
              "    }\n",
              "\n",
              "    [theme=dark] .colab-df-convert {\n",
              "      background-color: #3B4455;\n",
              "      fill: #D2E3FC;\n",
              "    }\n",
              "\n",
              "    [theme=dark] .colab-df-convert:hover {\n",
              "      background-color: #434B5C;\n",
              "      box-shadow: 0px 1px 3px 1px rgba(0, 0, 0, 0.15);\n",
              "      filter: drop-shadow(0px 1px 2px rgba(0, 0, 0, 0.3));\n",
              "      fill: #FFFFFF;\n",
              "    }\n",
              "  </style>\n",
              "\n",
              "      <script>\n",
              "        const buttonEl =\n",
              "          document.querySelector('#df-b8d26683-e452-430f-b9ef-ee2b4f4d47af button.colab-df-convert');\n",
              "        buttonEl.style.display =\n",
              "          google.colab.kernel.accessAllowed ? 'block' : 'none';\n",
              "\n",
              "        async function convertToInteractive(key) {\n",
              "          const element = document.querySelector('#df-b8d26683-e452-430f-b9ef-ee2b4f4d47af');\n",
              "          const dataTable =\n",
              "            await google.colab.kernel.invokeFunction('convertToInteractive',\n",
              "                                                     [key], {});\n",
              "          if (!dataTable) return;\n",
              "\n",
              "          const docLinkHtml = 'Like what you see? Visit the ' +\n",
              "            '<a target=\"_blank\" href=https://colab.research.google.com/notebooks/data_table.ipynb>data table notebook</a>'\n",
              "            + ' to learn more about interactive tables.';\n",
              "          element.innerHTML = '';\n",
              "          dataTable['output_type'] = 'display_data';\n",
              "          await google.colab.output.renderOutput(dataTable, element);\n",
              "          const docLink = document.createElement('div');\n",
              "          docLink.innerHTML = docLinkHtml;\n",
              "          element.appendChild(docLink);\n",
              "        }\n",
              "      </script>\n",
              "    </div>\n",
              "  </div>\n",
              "  "
            ]
          },
          "metadata": {},
          "execution_count": 93
        }
      ]
    },
    {
      "cell_type": "code",
      "source": [
        "print(X)"
      ],
      "metadata": {
        "colab": {
          "base_uri": "https://localhost:8080/"
        },
        "id": "dR10h-iG6-iu",
        "outputId": "5a1934f3-3896-4a98-ce21-ca342f076fad"
      },
      "execution_count": null,
      "outputs": [
        {
          "output_type": "stream",
          "name": "stdout",
          "text": [
            "[['M' 59 'No' ... 571 'Average' 1]\n",
            " ['M' 57 'No' ... 770 'Excellent' 1]\n",
            " ['F' 37 'Yes' ... 560 'Average' 1]\n",
            " ...\n",
            " ['F' 18 'Yes' ... 540 'Poor' 1]\n",
            " ['M' 24 'No' ... 551 'Average' 1]\n",
            " ['F' 34 'No' ... 558 'Average' 0]]\n"
          ]
        }
      ]
    },
    {
      "cell_type": "code",
      "source": [
        "print(X[0])"
      ],
      "metadata": {
        "colab": {
          "base_uri": "https://localhost:8080/"
        },
        "id": "BvRulxEiv4OU",
        "outputId": "24399ce1-bf08-4412-d96e-890e20bff0a0"
      },
      "execution_count": null,
      "outputs": [
        {
          "output_type": "stream",
          "name": "stdout",
          "text": [
            "['M' 59 'No' 1 'Graduate' 'Priv Sector' 2314491 219621 571 'Average' 1]\n"
          ]
        }
      ]
    },
    {
      "cell_type": "code",
      "source": [
        "print(y)"
      ],
      "metadata": {
        "colab": {
          "base_uri": "https://localhost:8080/"
        },
        "id": "Axx1I28HwOcx",
        "outputId": "0a2ec58b-9638-4699-a1b6-ac5b4c07c404"
      },
      "execution_count": null,
      "outputs": [
        {
          "output_type": "stream",
          "name": "stdout",
          "text": [
            "[  23144.92  107495.38  223212.23  559546.46  429986.55  129865.43\n",
            "   87561.88  136702.6   116183.25  647466.88  152996.73       0.\n",
            "   37606.86  181470.09    8058.38  547153.28   18503.51  106670.63\n",
            "  575037.31  109780.98       0.    143965.55       0.    218262.5\n",
            "  441485.1    39491.33  260041.43  191486.58       0.         0.\n",
            "  184669.06  205622.37  101314.8  1132340.02  530346.15  281072.26\n",
            "  412244.47  564017.91  435218.43  859867.89  831390.48  899595.9\n",
            "  388020.35       0.    208675.16  197274.47  200620.26       0.\n",
            "  148792.72       0.    320717.94  188868.08  104773.69  228392.41\n",
            "       0.         0.    305485.04       0.    483029.16  148872.14\n",
            "       0.   1139035.59  196612.56  535650.28  218833.49  867834.22\n",
            "  772898.02  172468.23  313530.15  225577.95       0.     80331.11\n",
            "       0.    870373.28  354380.99   37741.88       0.     21117.56\n",
            "       0.    475136.36  295505.85   93044.55       0.     44414.7\n",
            "  449877.27       0.    295068.39  552528.85  303569.76  726705.63\n",
            "  501850.5    74892.33  185442.19  459014.09  382223.45  355422.09\n",
            "  210341.62       0.    331189.54  433563.52  231988.21  200657.93\n",
            "  142548.2   277723.22  992528.5   108326.53  345955.8     6818.52\n",
            "  176058.75 1031769.38  165928.15       0.    348647.42  539883.46\n",
            "  316890.89       0.    144934.21  197437.32   21523.85       0.\n",
            "       0.     49156.13       0.    252449.    350711.94   83525.6\n",
            "  216919.99 1065015.93  152410.48   99032.64  813240.58  907162.85\n",
            "  190257.47  267661.1   149350.34       0.     41106.6   191356.12\n",
            "  533387.38  225354.13  625264.43  804906.42       0.    483848.21\n",
            "  156888.92   36801.99  357106.48  216838.16  475110.7    60370.95\n",
            "  223900.34  202191.94  801724.94    8432.56  150848.79  664560.37\n",
            "       0.    101099.18  117854.15  846107.77  435001.21       0.\n",
            "  175147.44  545495.88  138029.53  223328.31   97349.78  431896.1\n",
            "  232596.95  168059.58   94767.65  613209.15       0.    452723.13\n",
            "  419602.19       0.    820332.08       0.     41853.56  188085.01\n",
            "  335343.57  329840.32  275021.68  517623.11  259695.07   87672.93\n",
            "  467102.89  124963.34       0.    274258.77  238029.48  179826.38\n",
            "  530907.77  306330.34       0.    352046.98 1024899.5   580704.08\n",
            "  442097.14   88957.32       0.    226692.36  363872.33  161772.32\n",
            "   18661.9        0.    394362.11  338832.68  253427.93  332657.94\n",
            "  187224.67  107129.47  354651.17   88683.57  225283.79  343012.54\n",
            "  368894.06  701838.64       0.    483859.23  556473.19  115180.48\n",
            "   91375.3   144290.14  247272.26  558758.72  612062.49  251516.69\n",
            "   84955.39  571928.45  444274.72  201265.26  507208.4   205889.12\n",
            "    8138.42  263993.4   907641.22  370073.09   16181.47  433425.32\n",
            "  221356.2    60362.14  117610.8   144924.73  381234.18  731477.3\n",
            "  474908.34  127749.03   84363.72  333088.75  343097.92   97195.92\n",
            "  172752.61  868887.78       0.    456477.89  186973.74  470606.12\n",
            "  326636.57  444423.03   21559.18  459256.95  246161.64  137200.64\n",
            "    7244.92  216107.6   218133.87  514148.56   31084.37  470097.88\n",
            "   77642.64  844458.26  101175.02  374946.82  231892.26   36294.5\n",
            "  198798.76   78649.15       0.    162509.73       0.    290152.74\n",
            "  290647.37  165999.39  214876.72   89371.67  197136.19  353174.32\n",
            "  287709.43  119804.09   22074.38  330093.76   22092.74 1002892.2\n",
            "  271866.55  232985.3        0.    191312.99  120031.13  393811.65\n",
            "  176708.33  921798.78       0.    253839.79  208680.07  517334.68\n",
            "  409407.33  117494.24   61614.42  401675.36   89481.68  213403.38\n",
            "       0.     19788.02  167723.43  279035.39  199735.11       0.\n",
            "  603561.52  733602.89  408919.98       0.         0.         0.\n",
            "       0.    246732.78  305216.53  360662.52  339229.36  180184.5\n",
            "  285307.49  184520.83       0.    139467.87  158772.66  368420.21\n",
            "   92737.22       0.         0.    222643.75  217709.15  469914.99\n",
            "  227545.36   16039.97  269262.12  498664.24   93281.07  274926.58\n",
            "  119146.41       0.    105937.88  199470.34   72804.35       0.\n",
            "  171064.89  455747.79       0.         0.    392802.03   65836.18\n",
            "  534996.06  283255.95  172842.79  485087.    144076.54  190020.73\n",
            "  557193.72  226724.62       0.    386224.18  512036.64  556093.86\n",
            "  186021.66   96349.91  269670.12  139927.95  776076.46  362286.75\n",
            "  102768.37  564626.22   89504.02  105040.93  189459.7   448717.74\n",
            "  261210.16  121508.36       0.    195789.2        0.    466710.93\n",
            "  145527.12   94788.83  104011.7   104824.83  233314.72  928373.5\n",
            "   44936.81  167853.92  482711.22       0.     16397.92  475689.05\n",
            "  234565.92  337145.91  412192.98  275436.22       0.    167855.57\n",
            "   21207.45  174711.17  585402.83  409298.39       0.    188557.1\n",
            "   83094.36  422712.02   97423.07   90750.91  526558.99  205629.87\n",
            "  132396.85  180732.77  112913.11   20625.99  147445.69  286508.6\n",
            "  405420.35       0.     21637.14  844701.47  265481.04 1138625.22\n",
            "   94335.21  134280.43  172805.26  282576.11    8548.51       0.\n",
            "  832125.2   327252.96  759404.53  377802.49  486248.17  386055.92\n",
            "  195917.58  460948.94   99868.38  310377.42  111704.38  353153.48\n",
            "  566398.7   434761.5   636220.45  427737.97  124770.84       0.\n",
            "  267963.22  229274.13  226762.53  174066.5   549019.78  533699.36\n",
            "       0.    213465.17       0.    553776.08 1075097.62  395557.17\n",
            "   23054.78  553074.82   98951.19  399283.    884812.04  472046.7\n",
            "   42320.    110359.14  202310.02  223491.6   281420.71   31504.05\n",
            "  175018.4    16880.53  332295.73       0.   1150197.96  179919.53\n",
            "  146860.11   38813.55  667097.32  888500.66       0.     91758.95\n",
            "  799046.59  431592.77  371552.53       0.    510588.08       0.\n",
            "  729879.55  279245.41  628483.31  211875.61  127443.97  193335.27\n",
            "  187299.28  163905.29  338299.14  281113.76   44342.32       0.\n",
            "  398103.86  581495.28   26006.2    39348.97  211242.84   44679.5\n",
            "       0.    189587.38    8398.73  420047.07  363090.8   174452.12\n",
            "   80794.23  186458.33   92890.72   96329.16  155194.66  211272.4\n",
            "  249059.1    86330.1   431456.75  263939.72  155162.57  100469.32\n",
            "       0.    306566.17       0.         0.    144822.45  560931.74\n",
            "  170575.65  101009.09  601978.2   414877.06  209405.25  891535.18\n",
            "   40781.4   234636.21  336602.37  274611.28  206829.29  337846.26\n",
            "  178587.35  107813.25  188830.19   18954.25  385174.87  103025.91\n",
            "  609933.06  152328.67  222924.18  185644.66  284167.96  693599.39\n",
            "  237468.04       0.    591483.7   178450.03       0.    146245.66\n",
            "  562513.72       0.   1052252.81   80312.81  272281.58 1095241.54\n",
            "  694871.8    40248.09       0.    339048.66  418274.72  272790.28\n",
            " 1117898.12  272698.61   21008.62    6423.2   242306.49       0.\n",
            "  458633.13  163009.98  400877.73       0.    553786.08  201838.5\n",
            "  346978.33    8572.84  953362.48  251292.64  525466.74       0.\n",
            "  202829.5   172904.08  113164.42  117506.27  121724.9   476697.17\n",
            "  346925.45  132835.22  142621.47  291189.08  256473.86       0.\n",
            "  840636.09  254340.16  315485.    254051.07  228326.2     7182.75\n",
            "       0.     42595.93    7281.56  573300.5   314719.22  166059.21\n",
            "  243377.    133183.16  231490.04  249449.16  248688.54       0.\n",
            "  152383.7   178270.08   10720.65  140342.05       0.    150997.63\n",
            "   98573.86   97293.39  905642.9   290387.53  208508.97   39821.44\n",
            "  512153.11  514313.66 1251148.02  142969.17  161650.31  326877.28\n",
            "  110819.27  524107.84  543187.34  252172.66   29771.08  112125.91\n",
            "  430241.91  263424.15  316874.8    59051.77  149336.71  270054.85\n",
            "  175111.57   88926.86  589862.97   51347.36  188256.03  288804.83\n",
            "  302609.84  817903.82  391984.94  426685.9        0.         0.\n",
            "       0.         0.    574203.96   38210.43  357574.44  507399.31\n",
            "       0.     83342.55  207264.91  193084.18  268343.53   39506.07\n",
            "  613154.3    98346.84  169743.58   58754.35  162339.99  264848.22\n",
            " 1171800.4   178860.14  405332.5        0.    589444.85   18945.14\n",
            "   94036.37 1227947.5   170434.18  257164.48  336094.01   98471.53\n",
            "  234661.65  295145.38       0.    231137.52       0.    104951.38\n",
            "  210867.86  500425.43  377721.02  185124.04       0.    177379.86\n",
            "  213927.51  233350.38  227139.52 1152837.62  936057.86  355148.33\n",
            "   87522.46  369648.34  856900.1        0.         0.    374076.42\n",
            "  369562.04   93454.04  703370.68  113847.83  172860.4   100288.24\n",
            "       0.    243509.09  806989.81       0.    219240.79  570314.6\n",
            "  609692.9   112353.19  532172.86  233553.02  200749.26  303979.26\n",
            "  374154.06  509039.33       0.    169649.77  376795.9   320839.87\n",
            "  185124.62  268574.49  286666.75  139822.81  524562.01  339097.05\n",
            "   94388.16  144220.16       0.     98182.22       0.         0.\n",
            "   38473.11  468857.03  686627.43  224198.05    8586.94   89031.66\n",
            "  342488.98       0.         0.    149529.94  245414.56  324714.2\n",
            "  355404.62   52078.96  185918.64  221209.78    8655.59   19655.3\n",
            "  328867.72  375283.83  292119.54  495197.5   284024.39  342264.37\n",
            "   72465.33  310654.3   239438.94  264285.32  194775.47 1227069.04\n",
            "  286780.26  553803.99  214076.37   66381.17  460809.54   46716.23\n",
            "       0.    279186.09  116298.28  301903.66  121278.69  241406.06\n",
            "  604130.99  236193.7   485073.67  154012.85  159543.8        0.\n",
            "   96635.54 1141437.57   99941.98  229579.13  365078.29  137961.43\n",
            "  103904.16  388029.42  480486.02   91352.65  188728.28  212339.27\n",
            "  288450.66   94723.93  337211.03  305128.49  684341.77  563356.97\n",
            "   90172.55  535462.02   42259.38  106488.02  621347.23       0.\n",
            "   90235.7   117644.06  158855.55  200067.68   58309.94  517019.32\n",
            "  149183.08  545017.78       0.     46291.8   114586.98  726550.43\n",
            "       0.         0.    479575.7   110264.17  281181.39  686216.3\n",
            "       0.    226899.96   48238.71  364652.46  393259.46  114320.31\n",
            "  407527.02       0.    185542.58   74417.16  359593.64   80941.1\n",
            "       0.    643844.66  160189.54  112693.65  392097.36   17748.54\n",
            "       0.    400062.41  236489.14  528526.76  782210.96  709737.78\n",
            "  129314.74  927361.82  312922.47   17452.61  310635.64  405042.35\n",
            "  178114.72  510356.04  344851.96  183315.34  313449.23  336638.13\n",
            "  214794.57  367575.2   219282.3   332501.59       0.    103163.65\n",
            "    8704.45  464220.34  425418.66  145322.89  479801.95  101750.05\n",
            "  194235.65  145804.05   81483.63  272947.3   139417.27  431879.75\n",
            "  324512.48  306404.92  929164.94  188184.03  524445.12  451998.03\n",
            "  334123.     16959.14       0.         0.    560444.64  199462.78\n",
            "   82893.94   97215.1   268502.62  400762.59  333814.41  569415.98\n",
            "  400265.6   105842.28  154795.82   89775.42  109978.6        0.\n",
            "  252447.    286750.41  358245.92  259232.9    95776.31  456822.11\n",
            "  515301.66  182711.54  130951.93  106245.     89505.6   531450.08\n",
            "  410880.65  208136.36  135986.41   36999.9   180999.06  379644.59\n",
            "  552097.25  425980.    231710.14  193480.24  420130.48  211329.32\n",
            "   43889.28       0.     92657.88  315526.3   592638.34       0.\n",
            "  206605.87  325593.87   91549.8   109226.3    55686.28  105907.12\n",
            "  107867.79  710453.63  202695.92  202566.38  334354.17  522939.45\n",
            "   71633.52  483350.56   52075.05   43153.55  339650.44  370747.22\n",
            "   65229.3   786743.57  389288.3   223318.05  200011.33  234416.12\n",
            "  100283.82  333990.4    33337.17   99211.14   49675.04  523168.57\n",
            "  135450.74  426927.22       0.    719676.46  171752.26  297034.74\n",
            "  517918.44       0.    121683.66  262662.54]\n"
          ]
        }
      ]
    },
    {
      "cell_type": "markdown",
      "source": [
        "## Encoding categorical data"
      ],
      "metadata": {
        "id": "DDv_HGHW7KuK"
      }
    },
    {
      "cell_type": "code",
      "source": [
        "# ['M' 59 'No' 1 'Graduate' 'Priv Sector' 2314491 219621 571 'Average' 1]\n",
        "\n",
        "ct = ColumnTransformer(\n",
        "    [\n",
        "        (\"scaling\", StandardScaler(), [1, 3, 6, 7, 8, 10]),\n",
        "        (\"onehot\", OneHotEncoder(sparse=False), [0, 2, 4, 5, 9]),\n",
        "    ]\n",
        ")\n",
        "\n",
        "X = np.array(ct.fit_transform(X))"
      ],
      "metadata": {
        "colab": {
          "base_uri": "https://localhost:8080/"
        },
        "id": "clQ53ZRVwQPa",
        "outputId": "f371b8c3-d7f3-4a3e-bf67-76b07ff86bf2"
      },
      "execution_count": null,
      "outputs": [
        {
          "output_type": "stream",
          "name": "stderr",
          "text": [
            "/usr/local/lib/python3.9/dist-packages/sklearn/preprocessing/_encoders.py:868: FutureWarning: `sparse` was renamed to `sparse_output` in version 1.2 and will be removed in 1.4. `sparse_output` is ignored unless you leave `sparse` to its default value.\n",
            "  warnings.warn(\n"
          ]
        }
      ]
    },
    {
      "cell_type": "code",
      "source": [
        "print(X)"
      ],
      "metadata": {
        "colab": {
          "base_uri": "https://localhost:8080/"
        },
        "id": "vH8k86sz4d7P",
        "outputId": "bb788507-8339-42c0-ab7a-de9e0ef90bd5"
      },
      "execution_count": null,
      "outputs": [
        {
          "output_type": "stream",
          "name": "stdout",
          "text": [
            "[[ 1.28 -0.48  0.42 ...  0.    0.    0.  ]\n",
            " [ 1.14 -0.48 -0.69 ...  1.    0.    0.  ]\n",
            " [-0.31  0.43  0.35 ...  0.    0.    0.  ]\n",
            " ...\n",
            " [-1.69  1.33 -0.31 ...  0.    0.    1.  ]\n",
            " [-1.25  1.33 -0.92 ...  0.    0.    0.  ]\n",
            " [-0.53 -1.38 -0.08 ...  0.    0.    0.  ]]\n"
          ]
        }
      ]
    },
    {
      "cell_type": "markdown",
      "source": [
        "## Splitting the dataset into the Training set and Test set"
      ],
      "metadata": {
        "id": "CAt4eX567Pa6"
      }
    },
    {
      "cell_type": "code",
      "source": [
        "X_train, X_test, y_train, y_test = train_test_split(X, y, test_size = 0.2, random_state = 0)"
      ],
      "metadata": {
        "id": "ohnFg-Ap4rxV"
      },
      "execution_count": null,
      "outputs": []
    },
    {
      "cell_type": "markdown",
      "source": [
        "## Training the Multiple Linear Regression model on the Training set"
      ],
      "metadata": {
        "id": "tLZAcqXZ7Uhj"
      }
    },
    {
      "cell_type": "code",
      "source": [
        "from sklearn.linear_model import LinearRegression\n",
        "regressor = LinearRegression()\n",
        "regressor.fit(X_train, y_train)"
      ],
      "metadata": {
        "colab": {
          "base_uri": "https://localhost:8080/",
          "height": 74
        },
        "id": "YVIZmSv4419N",
        "outputId": "179d6781-bc38-482a-aea8-a5e21119228d"
      },
      "execution_count": null,
      "outputs": [
        {
          "output_type": "execute_result",
          "data": {
            "text/plain": [
              "LinearRegression()"
            ],
            "text/html": [
              "<style>#sk-container-id-6 {color: black;background-color: white;}#sk-container-id-6 pre{padding: 0;}#sk-container-id-6 div.sk-toggleable {background-color: white;}#sk-container-id-6 label.sk-toggleable__label {cursor: pointer;display: block;width: 100%;margin-bottom: 0;padding: 0.3em;box-sizing: border-box;text-align: center;}#sk-container-id-6 label.sk-toggleable__label-arrow:before {content: \"▸\";float: left;margin-right: 0.25em;color: #696969;}#sk-container-id-6 label.sk-toggleable__label-arrow:hover:before {color: black;}#sk-container-id-6 div.sk-estimator:hover label.sk-toggleable__label-arrow:before {color: black;}#sk-container-id-6 div.sk-toggleable__content {max-height: 0;max-width: 0;overflow: hidden;text-align: left;background-color: #f0f8ff;}#sk-container-id-6 div.sk-toggleable__content pre {margin: 0.2em;color: black;border-radius: 0.25em;background-color: #f0f8ff;}#sk-container-id-6 input.sk-toggleable__control:checked~div.sk-toggleable__content {max-height: 200px;max-width: 100%;overflow: auto;}#sk-container-id-6 input.sk-toggleable__control:checked~label.sk-toggleable__label-arrow:before {content: \"▾\";}#sk-container-id-6 div.sk-estimator input.sk-toggleable__control:checked~label.sk-toggleable__label {background-color: #d4ebff;}#sk-container-id-6 div.sk-label input.sk-toggleable__control:checked~label.sk-toggleable__label {background-color: #d4ebff;}#sk-container-id-6 input.sk-hidden--visually {border: 0;clip: rect(1px 1px 1px 1px);clip: rect(1px, 1px, 1px, 1px);height: 1px;margin: -1px;overflow: hidden;padding: 0;position: absolute;width: 1px;}#sk-container-id-6 div.sk-estimator {font-family: monospace;background-color: #f0f8ff;border: 1px dotted black;border-radius: 0.25em;box-sizing: border-box;margin-bottom: 0.5em;}#sk-container-id-6 div.sk-estimator:hover {background-color: #d4ebff;}#sk-container-id-6 div.sk-parallel-item::after {content: \"\";width: 100%;border-bottom: 1px solid gray;flex-grow: 1;}#sk-container-id-6 div.sk-label:hover label.sk-toggleable__label {background-color: #d4ebff;}#sk-container-id-6 div.sk-serial::before {content: \"\";position: absolute;border-left: 1px solid gray;box-sizing: border-box;top: 0;bottom: 0;left: 50%;z-index: 0;}#sk-container-id-6 div.sk-serial {display: flex;flex-direction: column;align-items: center;background-color: white;padding-right: 0.2em;padding-left: 0.2em;position: relative;}#sk-container-id-6 div.sk-item {position: relative;z-index: 1;}#sk-container-id-6 div.sk-parallel {display: flex;align-items: stretch;justify-content: center;background-color: white;position: relative;}#sk-container-id-6 div.sk-item::before, #sk-container-id-6 div.sk-parallel-item::before {content: \"\";position: absolute;border-left: 1px solid gray;box-sizing: border-box;top: 0;bottom: 0;left: 50%;z-index: -1;}#sk-container-id-6 div.sk-parallel-item {display: flex;flex-direction: column;z-index: 1;position: relative;background-color: white;}#sk-container-id-6 div.sk-parallel-item:first-child::after {align-self: flex-end;width: 50%;}#sk-container-id-6 div.sk-parallel-item:last-child::after {align-self: flex-start;width: 50%;}#sk-container-id-6 div.sk-parallel-item:only-child::after {width: 0;}#sk-container-id-6 div.sk-dashed-wrapped {border: 1px dashed gray;margin: 0 0.4em 0.5em 0.4em;box-sizing: border-box;padding-bottom: 0.4em;background-color: white;}#sk-container-id-6 div.sk-label label {font-family: monospace;font-weight: bold;display: inline-block;line-height: 1.2em;}#sk-container-id-6 div.sk-label-container {text-align: center;}#sk-container-id-6 div.sk-container {/* jupyter's `normalize.less` sets `[hidden] { display: none; }` but bootstrap.min.css set `[hidden] { display: none !important; }` so we also need the `!important` here to be able to override the default hidden behavior on the sphinx rendered scikit-learn.org. See: https://github.com/scikit-learn/scikit-learn/issues/21755 */display: inline-block !important;position: relative;}#sk-container-id-6 div.sk-text-repr-fallback {display: none;}</style><div id=\"sk-container-id-6\" class=\"sk-top-container\"><div class=\"sk-text-repr-fallback\"><pre>LinearRegression()</pre><b>In a Jupyter environment, please rerun this cell to show the HTML representation or trust the notebook. <br />On GitHub, the HTML representation is unable to render, please try loading this page with nbviewer.org.</b></div><div class=\"sk-container\" hidden><div class=\"sk-item\"><div class=\"sk-estimator sk-toggleable\"><input class=\"sk-toggleable__control sk-hidden--visually\" id=\"sk-estimator-id-6\" type=\"checkbox\" checked><label for=\"sk-estimator-id-6\" class=\"sk-toggleable__label sk-toggleable__label-arrow\">LinearRegression</label><div class=\"sk-toggleable__content\"><pre>LinearRegression()</pre></div></div></div></div></div>"
            ]
          },
          "metadata": {},
          "execution_count": 102
        }
      ]
    },
    {
      "cell_type": "markdown",
      "source": [
        "## Predicting the Test set results"
      ],
      "metadata": {
        "id": "sBvWgOqm7Y4l"
      }
    },
    {
      "cell_type": "code",
      "source": [
        "y_pred = regressor.predict(X_test)\n",
        "np.set_printoptions(precision=2)\n",
        "print(np.concatenate((y_pred.reshape(len(y_pred),1), y_test.reshape(len(y_test),1)),1))"
      ],
      "metadata": {
        "colab": {
          "base_uri": "https://localhost:8080/"
        },
        "id": "uMDetmho45R2",
        "outputId": "8649c7bf-ca05-4386-c4de-97d7777dec93"
      },
      "execution_count": null,
      "outputs": [
        {
          "output_type": "stream",
          "name": "stdout",
          "text": [
            "[[ 551247.1   719676.46]\n",
            " [-125286.98       0.  ]\n",
            " [ 119725.43  120031.13]\n",
            " [ 116604.11  107813.25]\n",
            " [-147641.86       0.  ]\n",
            " [ 499744.24  522939.45]\n",
            " [ 333743.85  191486.58]\n",
            " [ 321223.58  201265.26]\n",
            " [ 421989.42  409407.33]\n",
            " [ 186819.         0.  ]\n",
            " [ 447907.28  510588.08]\n",
            " [ 514650.38  609933.06]\n",
            " [ 316618.89  284024.39]\n",
            " [ 415552.4   433425.32]\n",
            " [  44044.51       0.  ]\n",
            " [-129176.92       0.  ]\n",
            " [ 369899.01  324512.48]\n",
            " [ -58256.87       0.  ]\n",
            " [-116146.51    8058.38]\n",
            " [  41473.01   21117.56]\n",
            " [ 319645.98  205622.37]\n",
            " [ -18037.4    16880.53]\n",
            " [ 240983.88   89481.68]\n",
            " [ 297204.9   213403.38]\n",
            " [ 454601.43  510356.04]\n",
            " [ 308953.94  239438.94]\n",
            " [ 306700.15  197274.47]\n",
            " [ 362104.36  277723.22]\n",
            " [ 217362.86       0.  ]\n",
            " [ 138341.58  107495.38]\n",
            " [ 110361.67   94723.93]\n",
            " [ 444263.71  377721.02]\n",
            " [ 356299.12  315485.  ]\n",
            " [ 233491.66  194775.47]\n",
            " [  35270.79   21207.45]\n",
            " [ 255801.05  219240.79]\n",
            " [ 241719.65  315526.3 ]\n",
            " [ 262571.33  557193.72]\n",
            " [ 132004.24   82893.94]\n",
            " [ 512862.51  514148.56]\n",
            " [ 433801.47  444274.72]\n",
            " [ 423509.62  517918.44]\n",
            " [ 194417.81  150997.63]\n",
            " [ 315067.26  170434.18]\n",
            " [ 120058.91   97195.92]\n",
            " [ 402594.24  495197.5 ]\n",
            " [ 100287.95   91352.65]\n",
            " [ 625041.69  804906.42]\n",
            " [ 147660.08  199735.11]\n",
            " [ 509413.22       0.  ]\n",
            " [ 268238.14  184520.83]\n",
            " [ 209794.72  232985.3 ]\n",
            " [ 345577.52  246161.64]\n",
            " [  96159.31   94335.21]\n",
            " [ 346617.94  359593.64]\n",
            " [ 797084.55 1117898.12]\n",
            " [ 115207.7   101175.02]\n",
            " [  96794.73   77642.64]\n",
            " [ 171050.97   99211.14]\n",
            " [ 625809.93  733602.89]\n",
            " [ 215202.78  146245.66]\n",
            " [ 237651.08  514313.66]\n",
            " [ 453548.98       0.  ]\n",
            " [ 281282.59  363872.33]\n",
            " [ 215434.55  188557.1 ]\n",
            " [ 732060.5  1024899.5 ]\n",
            " [-101670.66    7244.92]\n",
            " [ 332116.96  263939.72]\n",
            " [ 298239.22  172752.61]\n",
            " [ 398860.68  694871.8 ]\n",
            " [ 514757.3   609692.9 ]\n",
            " [ 393330.58  393811.65]\n",
            " [ 481569.88  532172.86]\n",
            " [ 198209.68  127749.03]\n",
            " [ 146872.28  154795.82]\n",
            " [  54656.84       0.  ]\n",
            " [ 403115.09  466710.93]\n",
            " [ 534331.52  460809.54]\n",
            " [ 212214.34  172904.08]\n",
            " [ 477332.05  430241.91]\n",
            " [ 404762.92  459256.95]\n",
            " [ 293693.65  267963.22]\n",
            " [ -28339.31       0.  ]\n",
            " [ 305729.57  200011.33]\n",
            " [ 214179.65  188184.03]\n",
            " [ 170206.25       0.  ]\n",
            " [ 693316.55  907641.22]\n",
            " [ 283061.31  211875.61]\n",
            " [ -25962.74       0.  ]\n",
            " [ 547189.21  782210.96]\n",
            " [ 505320.73  636220.45]\n",
            " [ 419970.78  371552.53]\n",
            " [ 517556.13  569415.98]\n",
            " [ 252743.25  162509.73]\n",
            " [ 723819.29  905642.9 ]\n",
            " [  72479.    179919.53]\n",
            " [  24683.65       0.  ]\n",
            " [ 252429.43  176058.75]\n",
            " [ 413000.63  226724.62]\n",
            " [ 842106.91 1251148.02]\n",
            " [ 491431.78  342264.37]\n",
            " [ 516442.06  528526.76]\n",
            " [ 694101.44  867834.22]\n",
            " [ 152445.26   81483.63]\n",
            " [  -9826.58       0.  ]\n",
            " [ 225855.5    98573.86]\n",
            " [ 344477.6   302609.84]\n",
            " [ 415372.28  264285.32]\n",
            " [ 553380.28  592638.34]\n",
            " [ 444385.65  225283.79]\n",
            " [-117850.51       0.  ]\n",
            " [ 381424.02  272698.61]\n",
            " [ 776769.7  1075097.62]\n",
            " [ 243807.52  186458.33]\n",
            " [ 339235.89  456477.89]\n",
            " [ 237228.03  121508.36]\n",
            " [ 665647.3   891535.18]\n",
            " [ 147919.18  189459.7 ]\n",
            " [ 691858.79  888500.66]\n",
            " [ -18411.53   39348.97]\n",
            " [ 313021.08  328867.72]\n",
            " [ 212877.57  139417.27]\n",
            " [ 512009.67       0.  ]\n",
            " [ 310264.2   180999.06]\n",
            " [-107297.62       0.  ]\n",
            " [ 174981.85  114586.98]\n",
            " [ 172286.99  186021.66]\n",
            " [ 234679.49  165999.39]\n",
            " [ 138563.31  106245.  ]\n",
            " [ 272574.44  142621.47]\n",
            " [ -19482.82       0.  ]\n",
            " [ 146302.73  152383.7 ]\n",
            " [ 628576.98  953362.48]\n",
            " [ 229463.89  177379.86]\n",
            " [ 342891.77  139822.81]\n",
            " [ 288934.59  243377.  ]\n",
            " [ -26459.33       0.  ]\n",
            " [ 199954.41  116183.25]\n",
            " [  51894.19   86330.1 ]\n",
            " [ 215969.22  129314.74]\n",
            " [ 226345.16  200657.93]\n",
            " [ 307808.58  254051.07]\n",
            " [ 368481.43  363090.8 ]\n",
            " [ 380346.68  333088.75]\n",
            " [-101001.29       0.  ]\n",
            " [ 201660.68  147445.69]\n",
            " [ 401687.96  261210.16]\n",
            " [ 636728.42  928373.5 ]\n",
            " [ 283825.5        0.  ]\n",
            " [ 615166.73  530346.15]\n",
            " [ 680924.57  844458.26]\n",
            " [ 211633.74  184669.06]\n",
            " [ 314745.    337145.91]\n",
            " [ 242382.21  144220.16]\n",
            " [ -15015.77   43153.55]\n",
            " [ 172853.9   135450.74]\n",
            " [ 281600.58  229274.13]\n",
            " [ 359884.41  172842.79]\n",
            " [ 214679.53  185542.58]\n",
            " [ 126340.48       0.  ]\n",
            " [ 343217.89  418274.72]\n",
            " [ -34036.14   33337.17]\n",
            " [ 271213.58  162339.99]\n",
            " [  -9110.64       0.  ]\n",
            " [  96833.51   89775.42]\n",
            " [ 166582.94  102768.37]\n",
            " [ 454998.09  408919.98]\n",
            " [ 332787.66  410880.65]\n",
            " [ 322906.45  199470.34]\n",
            " [ 652007.    526558.99]\n",
            " [  -7133.25   36999.9 ]\n",
            " [  -2431.95   66381.17]\n",
            " [   7360.97   36801.99]\n",
            " [ 572037.74  684341.77]\n",
            " [ 605111.88  799046.59]\n",
            " [ 246937.09  268574.49]\n",
            " [ 313264.02  221356.2 ]\n",
            " [ 240142.55  110819.27]\n",
            " [ 321924.46  313449.23]\n",
            " [ 237803.7   156888.92]\n",
            " [ 130159.68   89031.66]\n",
            " [ 272086.13  262662.54]\n",
            " [ 433760.48  395557.17]\n",
            " [ 347991.52  279035.39]\n",
            " [ 438809.93  523168.57]\n",
            " [ 269529.18  333814.41]\n",
            " [ 788572.17 1152837.62]\n",
            " [ 410802.29  226762.53]\n",
            " [ 471824.17  324714.2 ]\n",
            " [   8573.48   18661.9 ]\n",
            " [ 233102.61   90235.7 ]\n",
            " [ 535105.09  621347.23]\n",
            " [ 336403.49  282576.11]\n",
            " [  81043.94  129865.43]\n",
            " [-226264.27       0.  ]\n",
            " [ 156474.13   83342.55]\n",
            " [ 720419.94  856900.1 ]\n",
            " [ 450011.64  343012.54]\n",
            " [ 150936.98  112125.91]\n",
            " [ 320574.44  223900.34]]\n"
          ]
        }
      ]
    },
    {
      "cell_type": "markdown",
      "source": [
        "## Calculating the R² score"
      ],
      "metadata": {
        "id": "QeAd_QHT7dlu"
      }
    },
    {
      "cell_type": "code",
      "source": [
        "rmse = np.sqrt(mean_squared_error(y_test, y_pred))\n",
        "r2 = r2_score(y_test, y_pred)\n",
        "\n",
        "print(\"RMSE:\", rmse)\n",
        "print(\"R² score:\", r2)"
      ],
      "metadata": {
        "colab": {
          "base_uri": "https://localhost:8080/"
        },
        "id": "javZZtox49YO",
        "outputId": "41e31e44-351f-4de7-ee22-90bcb3479580"
      },
      "execution_count": null,
      "outputs": [
        {
          "output_type": "stream",
          "name": "stdout",
          "text": [
            "RMSE: 132979.38107521483\n",
            "R² score: 0.7549258446460376\n"
          ]
        }
      ]
    },
    {
      "cell_type": "markdown",
      "source": [
        "## Plot the predicted vs actual values"
      ],
      "metadata": {
        "id": "OjKqv1XUJwJj"
      }
    },
    {
      "cell_type": "code",
      "source": [
        "plt.scatter(y_test, y_pred, c =\"pink\",\n",
        "            linewidths = 2,\n",
        "            marker =\"s\",\n",
        "            edgecolor =\"green\",\n",
        "            s = 50)\n",
        "plt.xlabel('Actual values')\n",
        "plt.ylabel('Predicted values')\n",
        "plt.title('Actual vs Predicted values')\n",
        "plt.show()"
      ],
      "metadata": {
        "colab": {
          "base_uri": "https://localhost:8080/",
          "height": 472
        },
        "id": "FhFFKZg9JmNM",
        "outputId": "65e3ace9-51f2-4f28-cd26-5d2a5fe5f1ae"
      },
      "execution_count": null,
      "outputs": [
        {
          "output_type": "display_data",
          "data": {
            "text/plain": [
              "<Figure size 640x480 with 1 Axes>"
            ],
            "image/png": "[encoded data removed]"
          },
          "metadata": {}
        }
      ]
    }
  ]
}